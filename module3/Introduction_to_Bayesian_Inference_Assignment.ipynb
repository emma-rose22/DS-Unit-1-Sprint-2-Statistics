{
  "nbformat": 4,
  "nbformat_minor": 0,
  "metadata": {
    "colab": {
      "name": "Copy of LS_DS_123_Introduction_to_Bayesian_Inference_Assignment.ipynb",
      "provenance": [],
      "include_colab_link": true
    },
    "kernelspec": {
      "name": "python3",
      "display_name": "Python 3"
    }
  },
  "cells": [
    {
      "cell_type": "markdown",
      "metadata": {
        "id": "view-in-github",
        "colab_type": "text"
      },
      "source": [
        "<a href=\"https://colab.research.google.com/github/emma-rose22/DS-Unit-1-Sprint-2-Statistics/blob/master/module3/Introduction_to_Bayesian_Inference_Assignment.ipynb\" target=\"_parent\"><img src=\"https://colab.research.google.com/assets/colab-badge.svg\" alt=\"Open In Colab\"/></a>"
      ]
    },
    {
      "cell_type": "markdown",
      "metadata": {
        "id": "H7OLbevlbd_Z",
        "colab_type": "text"
      },
      "source": [
        "# Lambda School Data Science Module 123\n",
        "\n",
        "## Introduction to Bayesian Inference\n",
        "\n",
        "\n"
      ]
    },
    {
      "cell_type": "markdown",
      "metadata": {
        "id": "P-DzzRk5bf0z",
        "colab_type": "text"
      },
      "source": [
        "## Assignment - Code it up!\n",
        "\n",
        "We used pure math to apply Bayes Theorem to drug tests. Now write Python code to reproduce the results! This is purposefully open ended - you'll have to think about how you should represent probabilities and events. You can and should look things up.\n",
        "\n",
        "Specific goals/targets:\n",
        "\n",
        "### 1) Write a function \n",
        "\n",
        "`def prob_drunk_given_positive(prob_drunk_prior, false_positive_rate, true_positive_rate):` \n",
        "\n",
        "You should only truly need these two values in order to apply Bayes Theorem. In this example, imagine that individuals are taking a breathalyzer test with an 8% false positive rate, a 100% true positive rate, and that our prior belief about drunk driving in the population is 1/1000. \n",
        " - What is the probability that a person is drunk after one positive breathalyzer test?\n",
        " - What is the probability that a person is drunk after two positive breathalyzer tests?\n",
        " - How many positive breathalyzer tests are needed in order to have a probability that's greater than 95% that a person is drunk beyond the legal limit?\n",
        "\n",
        "### 2) Explore `scipy.stats.bayes_mvs`  \n",
        "Read its documentation, and experiment with it on data you've tested in other ways earlier this week.\n",
        " - Create a visualization comparing the results of a Bayesian approach to a traditional/frequentist approach. (with a large sample size they should look close to identical, however, take this opportunity to practice visualizing condfidence intervals in general. The following are some potential ways that you could visualize confidence intervals on your graph:\n",
        "  - [Matplotlib Error Bars](https://matplotlib.org/3.1.1/api/_as_gen/matplotlib.pyplot.errorbar.html)\n",
        "  - [Seaborn barplot with error bars](https://seaborn.pydata.org/generated/seaborn.barplot.html)\n",
        "  - [Vertical ines to show bounds of confidence interval](https://www.simplypsychology.org/confidence-interval.jpg)\n",
        "  - [Confidence Intervals on Box Plots](https://matplotlib.org/3.1.1/api/_as_gen/matplotlib.axes.Axes.boxplot.html)\n",
        "\n",
        "### 3) In your own words, summarize the difference between Bayesian and Frequentist statistics\n",
        "\n",
        "If you're unsure where to start, check out [this blog post of Bayes theorem with Python](https://dataconomy.com/2015/02/introduction-to-bayes-theorem-with-python/).\n",
        "\n"
      ]
    },
    {
      "cell_type": "markdown",
      "metadata": {
        "id": "hV_yLcQ1i44K",
        "colab_type": "text"
      },
      "source": [
        "$$P(A|B) = \\frac{P(B|A)P(A)}{P(B)}$$"
      ]
    },
    {
      "cell_type": "markdown",
      "metadata": {
        "id": "g81TwlL5nDE2",
        "colab_type": "text"
      },
      "source": [
        "![Bayes Theorem Drug Test Example](https://wikimedia.org/api/rest_v1/media/math/render/svg/95c6524a3736c43e4bae139713f3df2392e6eda9)\n"
      ]
    },
    {
      "cell_type": "code",
      "metadata": {
        "id": "u7-6OTsskA2Z",
        "colab_type": "code",
        "colab": {}
      },
      "source": [
        "P(+| User) = 1 #True positive rate = P(B|A)\n",
        "P(User) = 1/200 #Prior probability = P(A)\n",
        "P(+| Non-user) = #false positive rate = P(B)\n",
        "\n",
        "#you only need the three above numbers\n",
        "#to calculates Baye's rule\n",
        "\n",
        "P(Non-user) = (1- P(user)) = (1- 1/200) = .995\n",
        "# These are two complements and their probabilities should add up\n",
        "#to one\n",
        "P(non-user) + P(User) = 1"
      ],
      "execution_count": 0,
      "outputs": []
    },
    {
      "cell_type": "code",
      "metadata": {
        "id": "vl1dOSmbiwwo",
        "colab_type": "code",
        "colab": {
          "base_uri": "https://localhost:8080/",
          "height": 35
        },
        "outputId": "cab841be-e695-4c8a-edca-e2ff81a9f957"
      },
      "source": [
        "user = 1\n",
        "prob_user = 1/200\n",
        "non_user = 1- user\n",
        "true_pos = 1\n",
        "false_pos = .01\n",
        "                                                                         \n",
        "posterior_probability = (false_pos * prob_user)/ ((true_pos *prob_user)+ (false_pos *non_user))\n",
        "\n",
        "posterior_probability\n",
        "\n"
      ],
      "execution_count": 4,
      "outputs": [
        {
          "output_type": "execute_result",
          "data": {
            "text/plain": [
              "0.01"
            ]
          },
          "metadata": {
            "tags": []
          },
          "execution_count": 4
        }
      ]
    },
    {
      "cell_type": "code",
      "metadata": {
        "id": "HN6-6h9U4YV2",
        "colab_type": "code",
        "colab": {
          "base_uri": "https://localhost:8080/",
          "height": 35
        },
        "outputId": "a8ad1a67-ddf0-4cbb-e042-1c469a03638c"
      },
      "source": [
        "user = posterior_probability\n",
        "non_user = 1-user\n",
        "\n",
        "posterior_probability = (false_pos * prob_user)/ ((true_pos *prob_user)+ (false_pos *non_user))\n",
        "\n",
        "posterior_probability"
      ],
      "execution_count": 5,
      "outputs": [
        {
          "output_type": "execute_result",
          "data": {
            "text/plain": [
              "0.0033557046979865775"
            ]
          },
          "metadata": {
            "tags": []
          },
          "execution_count": 5
        }
      ]
    },
    {
      "cell_type": "markdown",
      "metadata": {
        "id": "kKl_3_xu6dgX",
        "colab_type": "text"
      },
      "source": [
        "You should only truly need these two values in order to apply Bayes Theorem. In this example, imagine that individuals are taking a breathalyzer test with an 8% false positive rate, a 100% true positive rate, and that our prior belief about drunk driving in the population is 1/1000. "
      ]
    },
    {
      "cell_type": "code",
      "metadata": {
        "id": "xpVhZyUnbf7o",
        "colab_type": "code",
        "colab": {}
      },
      "source": [
        "false_positive_rate = .08\n",
        "true_positive_rate = 1\n",
        "prob_drunk_prior = .001\n",
        "prob_not_drunk_prior = .999\n",
        "\n",
        "def prob_drunk_given_positive(prob_drunk_prior, false_positive_rate, true_positive_rate):\n",
        "    probability = (true_positive_rate * prob_drunk_prior) / ((true_positive_rate * prob_drunk_prior)*(false_positive_rate * prob_not_drunk_prior))\n",
        "    if probability < 11:\n",
        "      return probability\n",
        "    else:\n",
        "      user= probability\n",
        "      prob_drunk_prior = 1 - user\n",
        "      probability = (true_positive_rate * prob_drunk_prior) / ((true_positive_rate * prob_drunk_prior)*(false_positive_rate * prob_not_drunk_prior))\n",
        "    return probability\n",
        "  "
      ],
      "execution_count": 0,
      "outputs": []
    },
    {
      "cell_type": "code",
      "metadata": {
        "id": "4VY2Piq7ARIH",
        "colab_type": "code",
        "colab": {
          "base_uri": "https://localhost:8080/",
          "height": 35
        },
        "outputId": "13f48e53-3d2d-41c0-ab76-2bb158988f35"
      },
      "source": [
        "prob_drunk_given_positive(.001, .08, 1)"
      ],
      "execution_count": 78,
      "outputs": [
        {
          "output_type": "execute_result",
          "data": {
            "text/plain": [
              "12.512512512512512"
            ]
          },
          "metadata": {
            "tags": []
          },
          "execution_count": 78
        }
      ]
    },
    {
      "cell_type": "code",
      "metadata": {
        "id": "P3utSJLxBStw",
        "colab_type": "code",
        "colab": {
          "base_uri": "https://localhost:8080/",
          "height": 35
        },
        "outputId": "9be970f0-d386-46c1-efe3-0880427e1414"
      },
      "source": [
        "\n",
        "prob_drunk_given_positive(.001, .08, 1)"
      ],
      "execution_count": 75,
      "outputs": [
        {
          "output_type": "execute_result",
          "data": {
            "text/plain": [
              "12.512512512512512"
            ]
          },
          "metadata": {
            "tags": []
          },
          "execution_count": 75
        }
      ]
    },
    {
      "cell_type": "markdown",
      "metadata": {
        "id": "eOIuPY_D0j8m",
        "colab_type": "text"
      },
      "source": [
        "Let's pick this apart\n",
        "Posterior Probability: The final probability - adjusted and all - is:\n",
        "(True Positive Rate * Probability Is User ) Divided by:\n",
        "( (True Positive Rate * Probability Is User) + (False Positive Rate * Probability Is Non User) )\n",
        "\n",
        "Original Formula:\n",
        "\n",
        "posterior_probability = (P_pos_given_user * P_user)\n",
        "/ ((P_pos_given_user * P_user) + (P_pos_given_non_user * P_non_user))"
      ]
    },
    {
      "cell_type": "markdown",
      "metadata": {
        "id": "uWgWjp3PQ3Sq",
        "colab_type": "text"
      },
      "source": [
        "## Resources"
      ]
    },
    {
      "cell_type": "markdown",
      "metadata": {
        "id": "QRgHqmYIQ9qn",
        "colab_type": "text"
      },
      "source": [
        "- [Worked example of Bayes rule calculation](https://en.wikipedia.org/wiki/Bayes'_theorem#Examples) (helpful as it fully breaks out the denominator)\n",
        "- [Source code for mvsdist in scipy](https://github.com/scipy/scipy/blob/90534919e139d2a81c24bf08341734ff41a3db12/scipy/stats/morestats.py#L139)"
      ]
    },
    {
      "cell_type": "markdown",
      "metadata": {
        "id": "GP7Jv1XvwtkX",
        "colab_type": "text"
      },
      "source": [
        "## Stretch Goals:\n",
        "\n",
        "- Go back and study the content from Modules 1 & 2 to make sure that you're really comfortable with them.\n",
        "- Apply a Bayesian technique to a problem you previously worked (in an assignment or project work) on from a frequentist (standard) perspective\n",
        "- Check out [PyMC3](https://docs.pymc.io/) (note this goes beyond hypothesis tests into modeling) - read the guides and work through some examples\n",
        "- Take PyMC3 further - see if you can build something with it!"
      ]
    },
    {
      "cell_type": "code",
      "metadata": {
        "id": "iDi0eFr1x-v_",
        "colab_type": "code",
        "colab": {}
      },
      "source": [
        ""
      ],
      "execution_count": 0,
      "outputs": []
    }
  ]
}